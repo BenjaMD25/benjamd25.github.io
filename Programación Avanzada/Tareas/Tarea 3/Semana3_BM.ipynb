{
  "nbformat": 4,
  "nbformat_minor": 0,
  "metadata": {
    "colab": {
      "provenance": []
    },
    "kernelspec": {
      "name": "python3",
      "display_name": "Python 3"
    },
    "language_info": {
      "name": "python"
    }
  },
  "cells": [
    {
      "cell_type": "markdown",
      "source": [
        "# Tarea 3\n",
        "\n",
        "Para probar que toda función, clase, comando y el módulo funcione, deberán ejecutarse los siguientes códigos paso por paso."
      ],
      "metadata": {
        "id": "3I_74S9J-5MN"
      }
    },
    {
      "cell_type": "code",
      "source": [
        "#Ejecutar para importar el módulo y la librería numpy\n",
        "\n",
        "import modulo as md\n",
        "import numpy as np"
      ],
      "metadata": {
        "id": "9FT6Mn3zlhgi"
      },
      "execution_count": 1,
      "outputs": []
    },
    {
      "cell_type": "code",
      "source": [
        "#__init__ y __str__\n",
        "\n",
        "A = md.Punto2D(3,4)\n",
        "A.x = 3\n",
        "A.y = 4\n",
        "print(A)"
      ],
      "metadata": {
        "colab": {
          "base_uri": "https://localhost:8080/"
        },
        "id": "J3RPb56Oa5X6",
        "outputId": "75fa3264-1765-497b-e6f2-9dfc4686c1f9"
      },
      "execution_count": 2,
      "outputs": [
        {
          "output_type": "stream",
          "name": "stdout",
          "text": [
            "(3, 4)\n"
          ]
        }
      ]
    },
    {
      "cell_type": "code",
      "source": [
        "#__call__\n",
        "\n",
        "print(A(3))"
      ],
      "metadata": {
        "colab": {
          "base_uri": "https://localhost:8080/"
        },
        "id": "6d2J6rxca5u7",
        "outputId": "f0a89e85-2aff-4060-d3b1-5a09e3a3e43f"
      },
      "execution_count": 3,
      "outputs": [
        {
          "output_type": "stream",
          "name": "stdout",
          "text": [
            "(9, 12)\n"
          ]
        }
      ]
    },
    {
      "cell_type": "code",
      "source": [
        "#__add__, __sub__ y __rmul__\n",
        "\n",
        "B = md.Punto2D(5,6)\n",
        "C = 3*A+B\n",
        "print(C)\n",
        "print(C-B)"
      ],
      "metadata": {
        "colab": {
          "base_uri": "https://localhost:8080/"
        },
        "id": "PY9Y2vjna5xB",
        "outputId": "2471948b-334a-4163-e8cd-b8e492ce49c2"
      },
      "execution_count": 4,
      "outputs": [
        {
          "output_type": "stream",
          "name": "stdout",
          "text": [
            "(14, 18)\n",
            "(9, 12)\n"
          ]
        }
      ]
    },
    {
      "cell_type": "code",
      "source": [
        "#grafica\n",
        "\n",
        "A.graficar()"
      ],
      "metadata": {
        "colab": {
          "base_uri": "https://localhost:8080/",
          "height": 472
        },
        "id": "___mJhh3a5zV",
        "outputId": "aca8744d-3d19-4a3d-e49f-21dcfee4cc7a"
      },
      "execution_count": 5,
      "outputs": [
        {
          "output_type": "display_data",
          "data": {
            "text/plain": [
              "<Figure size 640x480 with 1 Axes>"
            ],
            "image/png": "[encoded data removed]"
          },
          "metadata": {}
        }
      ]
    },
    {
      "cell_type": "code",
      "source": [
        "#distancia\n",
        "\n",
        "A.distancia(B)"
      ],
      "metadata": {
        "colab": {
          "base_uri": "https://localhost:8080/",
          "height": 53
        },
        "id": "Pl-nJHvxkUxY",
        "outputId": "4e803171-12f8-4f09-be45-e4a987687240"
      },
      "execution_count": 6,
      "outputs": [
        {
          "output_type": "stream",
          "name": "stdout",
          "text": [
            "Tiempo de ejecucion: 0.0000848770 segundos\n"
          ]
        },
        {
          "output_type": "execute_result",
          "data": {
            "text/plain": [
              "'La distancia entre (3, 4) y (5, 6) es 2.8284271247461903'"
            ],
            "application/vnd.google.colaboratory.intrinsic+json": {
              "type": "string"
            }
          },
          "metadata": {},
          "execution_count": 6
        }
      ]
    },
    {
      "cell_type": "code",
      "source": [
        "#__abs__\n",
        "abs(A)"
      ],
      "metadata": {
        "colab": {
          "base_uri": "https://localhost:8080/"
        },
        "id": "COdCGXASlTaz",
        "outputId": "bdc7b7db-aa53-462c-8bd3-b345cc961b59"
      },
      "execution_count": 7,
      "outputs": [
        {
          "output_type": "execute_result",
          "data": {
            "text/plain": [
              "5.0"
            ]
          },
          "metadata": {},
          "execution_count": 7
        }
      ]
    }
  ]
}